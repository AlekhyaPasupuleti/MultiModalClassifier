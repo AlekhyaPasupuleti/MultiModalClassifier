{
  "cells": [
    {
      "cell_type": "markdown",
      "metadata": {
        "id": "view-in-github",
        "colab_type": "text"
      },
      "source": [
        "<a href=\"https://colab.research.google.com/github/AlekhyaPasupuleti/MultiModalClassifier/blob/main/Alekhya_Tensorflowserving.ipynb\" target=\"_parent\"><img src=\"https://colab.research.google.com/assets/colab-badge.svg\" alt=\"Open In Colab\"/></a>"
      ]
    },
    {
      "cell_type": "code",
      "execution_count": null,
      "id": "738df454",
      "metadata": {
        "id": "738df454"
      },
      "outputs": [],
      "source": [
        "import sys"
      ]
    },
    {
      "cell_type": "code",
      "execution_count": null,
      "id": "26272afd",
      "metadata": {
        "id": "26272afd"
      },
      "outputs": [],
      "source": [
        "# We need sudo prefix if not on a Google Colab.\n",
        "if 'google.colab' not in sys.modules:\n",
        "  SUDO_IF_NEEDED = 'sudo'\n",
        "else:\n",
        "  SUDO_IF_NEEDED = ''"
      ]
    },
    {
      "cell_type": "code",
      "execution_count": null,
      "id": "f9a20d11",
      "metadata": {
        "id": "f9a20d11"
      },
      "outputs": [],
      "source": [
        "!echo \"deb http://storage.googleapis.com/tensorflow-serving-apt stable tensorflow-model-server tensorflow-model-server-universal\" |sudo tee /etc/apt/sources.list.d/tensorflow-serving.list && \\\n",
        "curl https://storage.googleapis.com/tensorflow-serving-apt/tensorflow-serving.release.pub.gpg |sudo apt-key add -\n",
        "!sudo apt update"
      ]
    },
    {
      "cell_type": "code",
      "execution_count": null,
      "id": "54944ec9",
      "metadata": {
        "id": "54944ec9"
      },
      "outputs": [],
      "source": [
        "!{SUDO_IF_NEEDED} apt-get install tensorflow-model-server"
      ]
    },
    {
      "cell_type": "code",
      "execution_count": null,
      "id": "0fcf07b7",
      "metadata": {
        "id": "0fcf07b7"
      },
      "outputs": [],
      "source": [
        "from google.colab import drive\n",
        "drive.mount('/content/drive')"
      ]
    },
    {
      "cell_type": "code",
      "execution_count": null,
      "id": "0b13b151",
      "metadata": {
        "id": "0b13b151"
      },
      "outputs": [],
      "source": [
        "import os"
      ]
    },
    {
      "cell_type": "code",
      "execution_count": null,
      "id": "316cbc36",
      "metadata": {
        "id": "316cbc36"
      },
      "outputs": [],
      "source": [
        "!ls /content/drive/MyDrive/outputs"
      ]
    },
    {
      "cell_type": "code",
      "execution_count": null,
      "id": "04f2bbc6",
      "metadata": {
        "id": "04f2bbc6"
      },
      "outputs": [],
      "source": [
        "os.environ[\"MODEL_DIR\"] = '/content/drive/MyDrive/outputs'"
      ]
    },
    {
      "cell_type": "code",
      "execution_count": null,
      "id": "5ab294a8",
      "metadata": {
        "id": "5ab294a8"
      },
      "outputs": [],
      "source": [
        "%%bash --bg \n",
        "nohup tensorflow_model_server \\\n",
        "  --rest_api_port=8501 \\\n",
        "  --model_name=saved_model \\\n",
        "  --model_base_path=\"${MODEL_DIR}\" >server.log 2>&1"
      ]
    },
    {
      "cell_type": "code",
      "execution_count": null,
      "id": "212020b4",
      "metadata": {
        "id": "212020b4"
      },
      "outputs": [],
      "source": [
        "!tail server.log"
      ]
    },
    {
      "cell_type": "code",
      "execution_count": null,
      "id": "9a55a960",
      "metadata": {
        "id": "9a55a960"
      },
      "outputs": [],
      "source": [
        "import tensorflow as tf\n",
        "from tensorflow import keras\n",
        "fashion_mnist = keras.datasets.fashion_mnist\n",
        "(train_images, train_labels), (test_images, test_labels) = fashion_mnist.load_data()"
      ]
    },
    {
      "cell_type": "code",
      "execution_count": null,
      "id": "97760475",
      "metadata": {
        "id": "97760475"
      },
      "outputs": [],
      "source": [
        "# scale the values to 0.0 to 1.0\n",
        "train_images = train_images / 255.0\n",
        "test_images = test_images / 255.0"
      ]
    },
    {
      "cell_type": "code",
      "execution_count": null,
      "id": "b4d2ecc2",
      "metadata": {
        "id": "b4d2ecc2"
      },
      "outputs": [],
      "source": [
        "# reshape for feeding into the model\n",
        "train_images = train_images.reshape(train_images.shape[0], 28, 28, 1)\n",
        "test_images = test_images.reshape(test_images.shape[0], 28, 28, 1)"
      ]
    },
    {
      "cell_type": "code",
      "execution_count": null,
      "id": "e9659b87",
      "metadata": {
        "id": "e9659b87"
      },
      "outputs": [],
      "source": [
        "class_names = ['T-shirt/top', 'Trouser', 'Pullover', 'Dress', 'Coat',\n",
        "               'Sandal', 'Shirt', 'Sneaker', 'Bag', 'Ankle boot']"
      ]
    },
    {
      "cell_type": "code",
      "execution_count": null,
      "id": "ac937f10",
      "metadata": {
        "id": "ac937f10"
      },
      "outputs": [],
      "source": [
        "import numpy as np\n",
        "import matplotlib.pyplot as plt\n",
        "import os\n",
        "import subprocess"
      ]
    },
    {
      "cell_type": "code",
      "execution_count": null,
      "id": "9214b130",
      "metadata": {
        "id": "9214b130"
      },
      "outputs": [],
      "source": [
        "def show(idx, title):\n",
        "  plt.figure()\n",
        "  plt.imshow(test_images[idx].reshape(28,28))\n",
        "  plt.axis('off')\n",
        "  plt.title('\\n\\n{}'.format(title), fontdict={'size': 16})"
      ]
    },
    {
      "cell_type": "code",
      "execution_count": null,
      "id": "b72b975e",
      "metadata": {
        "id": "b72b975e"
      },
      "outputs": [],
      "source": [
        "import random\n",
        "rando = random.randint(0,len(test_images)-1)\n",
        "show(rando, 'An Example Image: {}'.format(class_names[test_labels[rando]]))"
      ]
    },
    {
      "cell_type": "code",
      "execution_count": null,
      "id": "abe52ca3",
      "metadata": {
        "id": "abe52ca3"
      },
      "outputs": [],
      "source": [
        "import json\n",
        "data = json.dumps({\"signature_name\": \"serving_default\", \"instances\": test_images[0:3].tolist()})\n",
        "print('Data: {} ... {}'.format(data[:50], data[len(data)-52:]))"
      ]
    },
    {
      "cell_type": "code",
      "execution_count": null,
      "id": "f5f3f7b4",
      "metadata": {
        "id": "f5f3f7b4"
      },
      "outputs": [],
      "source": [
        "!pip install -q requests"
      ]
    },
    {
      "cell_type": "code",
      "execution_count": null,
      "id": "544b711e",
      "metadata": {
        "id": "544b711e"
      },
      "outputs": [],
      "source": [
        "import requests\n",
        "headers = {\"content-type\": \"application/json\"}\n",
        "json_response = requests.post('http://localhost:8501/v1/models/saved_model:predict', data=data, headers=headers)\n",
        "predictions = json.loads(json_response.text)['predictions']"
      ]
    },
    {
      "cell_type": "code",
      "execution_count": null,
      "id": "3ca34e5c",
      "metadata": {
        "id": "3ca34e5c"
      },
      "outputs": [],
      "source": [
        "show(0, 'The model thought this was a {} (class {}), and it was actually a {} (class {})'.format(\n",
        "  class_names[np.argmax(predictions[0])], np.argmax(predictions[0]), class_names[test_labels[0]], test_labels[0]))"
      ]
    }
  ],
  "metadata": {
    "kernelspec": {
      "display_name": "Python 3 (ipykernel)",
      "language": "python",
      "name": "python3"
    },
    "language_info": {
      "codemirror_mode": {
        "name": "ipython",
        "version": 3
      },
      "file_extension": ".py",
      "mimetype": "text/x-python",
      "name": "python",
      "nbconvert_exporter": "python",
      "pygments_lexer": "ipython3",
      "version": "3.10.7"
    },
    "colab": {
      "provenance": [],
      "include_colab_link": true
    }
  },
  "nbformat": 4,
  "nbformat_minor": 5
}